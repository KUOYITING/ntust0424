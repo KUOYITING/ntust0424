{
 "cells": [
  {
   "cell_type": "code",
   "execution_count": 14,
   "metadata": {},
   "outputs": [
    {
     "name": "stdout",
     "output_type": "stream",
     "text": [
      "input a digit:a\n",
      "未知\n"
     ]
    }
   ],
   "source": [
    "try:\n",
    "    grade=float(input(\"input a digit:\"))\n",
    "    if grade>=80:\n",
    "        print(\"優等\")\n",
    "    elif grade>=60:\n",
    "        print(\"及格\")\n",
    "    elif grade>=0:\n",
    "        print(\"不及格\")\n",
    "    else:\n",
    "        print(\"未知\")\n",
    "except:\n",
    "    print(\"未知\")\n",
    "    "
   ]
  },
  {
   "cell_type": "code",
   "execution_count": null,
   "metadata": {},
   "outputs": [],
   "source": []
  },
  {
   "cell_type": "code",
   "execution_count": null,
   "metadata": {},
   "outputs": [],
   "source": []
  }
 ],
 "metadata": {
  "kernelspec": {
   "display_name": "Python 3",
   "language": "python",
   "name": "python3"
  },
  "language_info": {
   "codemirror_mode": {
    "name": "ipython",
    "version": 3
   },
   "file_extension": ".py",
   "mimetype": "text/x-python",
   "name": "python",
   "nbconvert_exporter": "python",
   "pygments_lexer": "ipython3",
   "version": "3.6.4"
  }
 },
 "nbformat": 4,
 "nbformat_minor": 2
}
